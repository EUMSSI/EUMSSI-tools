{
 "metadata": {
  "name": "",
  "signature": "sha256:e30086e12fdb083dcd6d5705bbb6cb107ac7eab2e235bf8142b2067d2b04f5d4"
 },
 "nbformat": 3,
 "nbformat_minor": 0,
 "worksheets": [
  {
   "cells": [
    {
     "cell_type": "markdown",
     "metadata": {},
     "source": [
      "# Setup"
     ]
    },
    {
     "cell_type": "code",
     "collapsed": false,
     "input": [
      "import pymongo\n",
      "client=pymongo.MongoClient()\n",
      "db=client['eumssi_db']\n",
      "col=db['content_items']"
     ],
     "language": "python",
     "metadata": {},
     "outputs": [],
     "prompt_number": 1
    },
    {
     "cell_type": "markdown",
     "metadata": {},
     "source": [
      "# Analysis"
     ]
    },
    {
     "cell_type": "markdown",
     "metadata": {},
     "source": [
      "## number of content items"
     ]
    },
    {
     "cell_type": "code",
     "collapsed": false,
     "input": [
      "col.count()"
     ],
     "language": "python",
     "metadata": {},
     "outputs": [
      {
       "metadata": {},
       "output_type": "pyout",
       "prompt_number": 2,
       "text": [
        "1217390"
       ]
      }
     ],
     "prompt_number": 2
    },
    {
     "cell_type": "markdown",
     "metadata": {},
     "source": [
      "## number of tweets"
     ]
    },
    {
     "cell_type": "code",
     "collapsed": false,
     "input": [
      "col.find({'source':{'$in':['Twitter','Twitter-DW']}}).count()"
     ],
     "language": "python",
     "metadata": {},
     "outputs": [
      {
       "metadata": {},
       "output_type": "pyout",
       "prompt_number": 3,
       "text": [
        "457224"
       ]
      }
     ],
     "prompt_number": 3
    },
    {
     "cell_type": "markdown",
     "metadata": {},
     "source": [
      "## number of Youtube videos"
     ]
    },
    {
     "cell_type": "code",
     "collapsed": false,
     "input": [
      "col.find({'source':{'$in':['Youtube-video-GeneralChannel',\n",
      "                           'Youtube-video-dwEnglishChannel',\n",
      "                           'Youtube-video-theguardianChannel'\n",
      "        ]}}).count()"
     ],
     "language": "python",
     "metadata": {},
     "outputs": [
      {
       "metadata": {},
       "output_type": "pyout",
       "prompt_number": 4,
       "text": [
        "7826"
       ]
      }
     ],
     "prompt_number": 4
    },
    {
     "cell_type": "markdown",
     "metadata": {},
     "source": [
      "## top tags"
     ]
    },
    {
     "cell_type": "code",
     "collapsed": false,
     "input": [
      "top_tags = col.aggregate([\n",
      "{'$match' : {'source' : {'$in':['Twitter','Twitter-DW']}}}, # only count tweets\n",
      "{'$project' : {'meta.original.entities.hashtags.text':1}}, # only keep hashtags\n",
      "{'$group' :{ '_id' : \"$meta.original.entities.hashtags.text\",'groupCount' : {'$sum':1} } }, # count hashtag groups\n",
      "{'$unwind':\"$_id\"}, # split hashtag groups\n",
      "{'$group' :{ '_id' : {'$toLower':\"$_id\"},'tagCount' : {'$sum':'$groupCount'} } }, # count individual hashtags\n",
      "{'$sort':{'tagCount':-1}} # top hashtags first\n",
      "])['result']"
     ],
     "language": "python",
     "metadata": {},
     "outputs": [],
     "prompt_number": 5
    },
    {
     "cell_type": "code",
     "collapsed": false,
     "input": [
      "print '\\n'.join(['\\t'.join((str(x['tagCount']),x['_id'])) for x in top_tags[:50]]) # pretty print top tags"
     ],
     "language": "python",
     "metadata": {},
     "outputs": [
      {
       "output_type": "stream",
       "stream": "stdout",
       "text": [
        "246129\tfracking\n",
        "101423\tclimate\n",
        "49214\tenvironment\n",
        "31814\tsustainability\n",
        "30710\tnuclear\n",
        "28989\tcop20\n",
        "12971\tshale\n",
        "12410\tenergy\n",
        "10230\tclimatechange\n",
        "9660\toil\n",
        "9289\toilandgas\n",
        "8313\tauspol\n",
        "8306\tgreen\n",
        "7936\tnatgas\n",
        "7007\tthorium\n",
        "6727\tcdnpoli\n",
        "5553\twater\n",
        "5437\tiran\n",
        "5124\tgas\n",
        "4982\thealth\n",
        "4271\tfrackoff\n",
        "4270\tshalegas\n",
        "4244\tttip\n",
        "3832\tsolar\n",
        "3352\tglobalwarming\n",
        "3197\tbartonmoss\n",
        "3167\ttexas\n",
        "3156\tcsr\n",
        "3120\tcsg\n",
        "3009\tusa\n",
        "2978\tlima\n",
        "2959\tscience\n",
        "2890\tp2\n",
        "2814\tearth\n",
        "2479\tcoal\n",
        "2458\tgentechnik\n",
        "2437\tacta\n",
        "2414\teco\n",
        "2384\teconomy\n",
        "2301\ttarsands\n",
        "2296\tnature\n",
        "2128\tpollution\n",
        "2121\tukraine\n",
        "2119\tuk\n",
        "2074\tus\n",
        "2031\tcopolitics\n",
        "2021\tford\n",
        "2012\tcmax\n",
        "1953\turanium\n",
        "1944\ttpp\n"
       ]
      }
     ],
     "prompt_number": 6
    },
    {
     "cell_type": "heading",
     "level": 3,
     "metadata": {},
     "source": [
      "top tags by language"
     ]
    },
    {
     "cell_type": "code",
     "collapsed": false,
     "input": [
      "for lang in ('en','es','de','fr'):\n",
      "    top_tags = col.aggregate([\n",
      "{'$match' : {'source' : {'$in':['Twitter','Twitter-DW']},'meta.source.inLanguage':lang}}, # only count tweets\n",
      "{'$project' : {'meta.original.entities.hashtags.text':1}}, # only keep hashtags\n",
      "{'$group' :{ '_id' : \"$meta.original.entities.hashtags.text\",'groupCount' : {'$sum':1} } }, # count hashtag groups\n",
      "{'$unwind':\"$_id\"}, # split hashtag groups\n",
      "{'$group' :{ '_id' : {'$toLower':\"$_id\"},'tagCount' : {'$sum':'$groupCount'} } }, # count individual hashtags\n",
      "{'$sort':{'tagCount':-1}} # top hashtags first\n",
      "])['result']\n",
      "    print '==   '+lang+'   =='\n",
      "    print '\\n'.join(['\\t'.join((str(x['tagCount']),x['_id'])) for x in top_tags[:50]]) # pretty print top tags\n",
      "    print"
     ],
     "language": "python",
     "metadata": {},
     "outputs": [
      {
       "output_type": "stream",
       "stream": "stdout",
       "text": [
        "==   en   ==\n",
        "211930\tfracking\n",
        "98805\tclimate\n",
        "46940\tenvironment\n",
        "30734\tsustainability\n",
        "28552\tcop20\n",
        "27705\tnuclear\n",
        "12309\tshale\n",
        "12163\tenergy\n",
        "9993\tclimatechange\n",
        "9373\toil\n",
        "8529\toilandgas\n",
        "7910\tgreen\n",
        "7861\tauspol\n",
        "7794\tnatgas\n",
        "6741\tthorium\n",
        "6607\tcdnpoli\n",
        "5399\twater\n",
        "5336\tiran\n",
        "4871\thealth\n",
        "4751\tgas\n",
        "4050\tfrackoff\n",
        "3648\tshalegas\n",
        "3614\tsolar\n",
        "3140\tbartonmoss\n",
        "3078\tglobalwarming\n",
        "3073\tcsr\n",
        "3059\tcsg\n",
        "3037\ttexas\n",
        "2909\tlima\n",
        "2852\tp2\n",
        "2754\tscience\n",
        "2723\tearth\n",
        "2484\tusa\n",
        "2435\tcoal\n",
        "2345\teconomy\n",
        "2240\ttarsands\n",
        "2099\tnature\n",
        "2062\tuk\n",
        "2057\tpollution\n",
        "2020\tford\n",
        "2011\tcmax\n",
        "2009\tus\n",
        "2005\tcopolitics\n",
        "1932\turanium\n",
        "1908\teco\n",
        "1871\tplanet\n",
        "1861\tirantalks\n",
        "1856\ttpp\n",
        "1835\trenewables\n",
        "1816\tukraine\n",
        "\n",
        "==   es   =="
       ]
      },
      {
       "output_type": "stream",
       "stream": "stdout",
       "text": [
        "\n",
        "17309\tfracking\n",
        "1610\tnuclear\n",
        "709\tmedioambiente\n",
        "648\tfrackingno\n",
        "446\tucrania\n",
        "347\tclimate\n",
        "319\tcantabria\n",
        "302\tshale\n",
        "299\tshapoporose\n",
        "280\tm\u00e9xico\n",
        "269\tenvironment\n",
        "250\treformaenerg\u00e9tica\n",
        "247\teeuu\n",
        "241\t\u00daltimahoratve\n",
        "237\tburgos\n",
        "223\tshalegas\n",
        "209\toilandgas\n",
        "206\trenovables\n",
        "202\tespa\u00f1a\n",
        "201\tmarcaespa\u00f1a\n",
        "199\tmexico\n",
        "197\ttamaulipas\n",
        "185\tsustainability\n",
        "168\tcoahuila\n",
        "165\treformaenergetica\n",
        "145\tagua\n",
        "137\tgas\n",
        "133\tnl\n",
        "133\tcop20\n",
        "129\tunasur\n",
        "129\tintegraci\u00f3n\n",
        "129\teeuusanciones\n",
        "124\tnofracking\n",
        "123\tmerindades\n",
        "120\tscience\n",
        "119\tpemex\n",
        "118\targentina\n",
        "114\tvacamuerta\n",
        "113\tfalso\n",
        "111\tttip\n",
        "110\tbbc\n",
        "108\tauspol\n",
        "107\tthorium\n",
        "100\tprospecciones\n",
        "98\tfrackingez\n",
        "98\tenerg\u00eda\n",
        "89\tpp\n",
        "89\tmitosdelfracking\n",
        "88\tnuevolaredo\n",
        "87\tpetr\u00f3leo\n",
        "\n",
        "==   de   =="
       ]
      },
      {
       "output_type": "stream",
       "stream": "stdout",
       "text": [
        "\n",
        "12572\tfracking\n",
        "2920\tttip\n",
        "2457\tgentechnik\n",
        "2409\tacta\n",
        "477\twm2014\n",
        "471\tschiefergas\n",
        "381\terdgas\n",
        "332\tnofracking\n",
        "286\teu\n",
        "285\t100000haende\n",
        "259\tusa\n",
        "232\tenergiewende\n",
        "231\tewendemo\n",
        "218\tclimate\n",
        "185\tumwelt\n",
        "179\tpiraten\n",
        "171\tspd\n",
        "150\tgas\n",
        "150\toilandgas\n",
        "149\tcdu\n",
        "147\tgasbohren\n",
        "146\tgroko\n",
        "143\tukraine\n",
        "140\tenergie\n",
        "120\tnrw\n",
        "119\tshalegas\n",
        "114\tshale\n",
        "108\tgabriel\n",
        "93\trussland\n",
        "91\tdeutschland\n",
        "88\tbigoil\n",
        "87\tengagingindeception\n",
        "85\tnato\n",
        "83\teid\n",
        "72\tenergy\n",
        "72\tnatgas\n",
        "70\toil\n",
        "68\tceta\n",
        "68\tgr\u00fcne\n",
        "68\texxon\n",
        "63\tsockpuppet\n",
        "63\tpropaganda\n",
        "62\tnokxl\n",
        "58\tkohle\n",
        "58\tnuclear\n",
        "57\tco2\n",
        "57\tenvironment\n",
        "56\tatom\n",
        "55\toettinger\n",
        "53\tauspol\n",
        "\n",
        "==   fr   =="
       ]
      },
      {
       "output_type": "stream",
       "stream": "stdout",
       "text": [
        "\n",
        "959\tfracking\n",
        "369\tclimate\n",
        "360\tgazdeschiste\n",
        "355\tenvironment\n",
        "129\tnuclear\n",
        "114\tcop20\n",
        "107\tschiste\n",
        "89\tsustainability\n",
        "70\toilandgas\n",
        "48\tjobs\n",
        "47\tcofrentes17\n",
        "47\tsolaridad\n",
        "42\tclimat\n",
        "40\tp\u00e9trole\n",
        "37\tgaz\n",
        "35\taustralia\n",
        "34\tmetals\n",
        "34\toccupychevron\n",
        "34\tsweden\n",
        "34\tshalegas\n",
        "30\tshale\n",
        "28\tpollution\n",
        "28\tchevron\n",
        "27\ttoxic\n",
        "26\tsvpol\n",
        "26\tericgarner\n",
        "26\ticantbreathe\n",
        "26\tinvestors\n",
        "25\tcanada\n",
        "25\tagriculture\n",
        "25\tqu\u00e9bec\n",
        "25\tgettheffout\n",
        "24\tgreen\n",
        "24\tholyfieldholywar\n",
        "23\tenvironnement\n",
        "22\tclimatechange\n",
        "22\ttafta\n",
        "22\tpolcan\n",
        "21\tpolqc\n",
        "21\tchange\n",
        "21\tbartonmoss\n",
        "21\tfrance\n",
        "21\tusa\n",
        "20\tpungesti\n",
        "20\tukraine\n",
        "20\teurope\n",
        "19\trechauffementclimatique\n",
        "19\tromania\n",
        "18\ttexas\n",
        "17\ttotal\n",
        "\n"
       ]
      }
     ],
     "prompt_number": 7
    },
    {
     "cell_type": "markdown",
     "metadata": {},
     "source": [
      "## languages"
     ]
    },
    {
     "cell_type": "code",
     "collapsed": false,
     "input": [
      "langs = col.aggregate([\n",
      "{'$match' : {'source' : {'$in':['Twitter','Twitter-DW']}}}, # only count tweets\n",
      "{'$project' : {'meta.source.inLanguage':1}}, # only keep language field\n",
      "{'$group' :{ '_id' : \"$meta.source.inLanguage\",'langCount' : {'$sum':1} } }, # count tweets per language\n",
      "{'$sort':{'langCount':-1}} # top languages first\n",
      "])['result']"
     ],
     "language": "python",
     "metadata": {},
     "outputs": [],
     "prompt_number": 8
    },
    {
     "cell_type": "code",
     "collapsed": false,
     "input": [
      "print '\\n'.join(['\\t'.join((str(x['langCount']),str(x['_id']))) for x in langs]) # pretty print languages"
     ],
     "language": "python",
     "metadata": {},
     "outputs": [
      {
       "output_type": "stream",
       "stream": "stdout",
       "text": [
        "413189\ten\n",
        "20204\tes\n",
        "12862\tde\n",
        "2563\tund\n",
        "1956\tfr\n",
        "1178\tit\n",
        "885\tnl\n",
        "809\tja\n",
        "604\tpt\n",
        "361\tin\n",
        "320\tsk\n",
        "296\tro\n",
        "214\ttl\n",
        "180\tpl\n",
        "167\tda\n",
        "165\tar\n",
        "165\tet\n",
        "147\tsv\n",
        "121\tsl\n",
        "81\tcy\n",
        "79\tno\n",
        "79\ttr\n",
        "77\tht\n",
        "63\tfi\n",
        "59\tvi\n",
        "58\tbs\n",
        "42\tru\n",
        "41\tel\n",
        "33\tfa\n",
        "32\tlt\n",
        "29\thi\n",
        "26\thu\n",
        "26\tid\n",
        "19\thr\n",
        "18\tis\n",
        "15\tbg\n",
        "13\tzh\n",
        "12\tlv\n",
        "10\tNone\n",
        "9\tuk\n",
        "8\tta\n",
        "6\tth\n",
        "4\tko\n",
        "2\tiw\n",
        "2\tbn\n",
        "1\tne\n",
        "1\tur\n",
        "1\tsr\n"
       ]
      }
     ],
     "prompt_number": 9
    }
   ],
   "metadata": {}
  }
 ]
}