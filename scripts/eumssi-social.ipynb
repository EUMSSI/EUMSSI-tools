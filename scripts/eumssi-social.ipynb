{
 "metadata": {
  "name": "",
  "signature": "sha256:914e48fbaa533dbb1337ce1d0e8bf926e2c45347e246509b1802761c6b587198"
 },
 "nbformat": 3,
 "nbformat_minor": 0,
 "worksheets": [
  {
   "cells": [
    {
     "cell_type": "markdown",
     "metadata": {},
     "source": [
      "# Setup"
     ]
    },
    {
     "cell_type": "code",
     "collapsed": false,
     "input": [
      "import pymongo\n",
      "client=pymongo.MongoClient()\n",
      "db=client['eumssi_db']\n",
      "col=db['content_items']"
     ],
     "language": "python",
     "metadata": {},
     "outputs": [],
     "prompt_number": 1
    },
    {
     "cell_type": "markdown",
     "metadata": {},
     "source": [
      "# Analysis"
     ]
    },
    {
     "cell_type": "markdown",
     "metadata": {},
     "source": [
      "## number of content items"
     ]
    },
    {
     "cell_type": "code",
     "collapsed": false,
     "input": [
      "col.count()"
     ],
     "language": "python",
     "metadata": {},
     "outputs": [
      {
       "metadata": {},
       "output_type": "pyout",
       "prompt_number": 2,
       "text": [
        "1303900"
       ]
      }
     ],
     "prompt_number": 2
    },
    {
     "cell_type": "markdown",
     "metadata": {},
     "source": [
      "## number of tweets"
     ]
    },
    {
     "cell_type": "code",
     "collapsed": false,
     "input": [
      "col.find({'source':{'$in':['Twitter','Twitter-DW']}}).count()"
     ],
     "language": "python",
     "metadata": {},
     "outputs": [
      {
       "metadata": {},
       "output_type": "pyout",
       "prompt_number": 3,
       "text": [
        "543734"
       ]
      }
     ],
     "prompt_number": 3
    },
    {
     "cell_type": "markdown",
     "metadata": {},
     "source": [
      "## number of Youtube videos"
     ]
    },
    {
     "cell_type": "code",
     "collapsed": false,
     "input": [
      "col.find({'source':{'$in':['Youtube-video-GeneralChannel',\n",
      "                           'Youtube-video-dwEnglishChannel',\n",
      "                           'Youtube-video-theguardianChannel'\n",
      "        ]}}).count()"
     ],
     "language": "python",
     "metadata": {},
     "outputs": [
      {
       "metadata": {},
       "output_type": "pyout",
       "prompt_number": 4,
       "text": [
        "7826"
       ]
      }
     ],
     "prompt_number": 4
    },
    {
     "cell_type": "markdown",
     "metadata": {},
     "source": [
      "## top tags"
     ]
    },
    {
     "cell_type": "code",
     "collapsed": false,
     "input": [
      "top_tags = col.aggregate([\n",
      "{'$match' : {'source' : {'$in':['Twitter','Twitter-DW']}}}, # only count tweets\n",
      "{'$project' : {'meta.original.entities.hashtags.text':1}}, # only keep hashtags\n",
      "{'$group' :{ '_id' : \"$meta.original.entities.hashtags.text\",'groupCount' : {'$sum':1} } }, # count hashtag groups\n",
      "{'$unwind':\"$_id\"}, # split hashtag groups\n",
      "{'$group' :{ '_id' : {'$toLower':\"$_id\"},'tagCount' : {'$sum':'$groupCount'} } }, # count individual hashtags\n",
      "{'$sort':{'tagCount':-1}} # top hashtags first\n",
      "])['result']"
     ],
     "language": "python",
     "metadata": {},
     "outputs": [],
     "prompt_number": 5
    },
    {
     "cell_type": "code",
     "collapsed": false,
     "input": [
      "print '\\n'.join(['\\t'.join((str(x['tagCount']),x['_id'])) for x in top_tags[:50]]) # pretty print top tags"
     ],
     "language": "python",
     "metadata": {},
     "outputs": [
      {
       "output_type": "stream",
       "stream": "stdout",
       "text": [
        "280422\tfracking\n",
        "126855\tclimate\n",
        "59787\tenvironment\n",
        "39700\tsustainability\n",
        "37733\tnuclear\n",
        "30295\tcop20\n",
        "14314\tenergy\n",
        "14166\tshale\n",
        "12079\tclimatechange\n",
        "11746\toilandgas\n",
        "11099\toil\n",
        "10254\tgreen\n",
        "9965\tauspol\n",
        "9615\tthorium\n",
        "9297\tnatgas\n",
        "8620\teconomy\n",
        "8312\tcdnpoli\n",
        "8120\thealth\n",
        "6255\tiran\n",
        "6066\twater\n",
        "5630\tgas\n",
        "5132\tusa\n",
        "5025\tgop\n",
        "4771\tfrackoff\n",
        "4715\tsolar\n",
        "4596\tshalegas\n",
        "4336\tttip\n",
        "4331\tpassabill\n",
        "4311\tanfa\n",
        "4304\tuslatino\n",
        "4239\tworkbalance\n",
        "4009\tglobalwarming\n",
        "3992\tcsr\n",
        "3855\tcsg\n",
        "3525\ttexas\n",
        "3512\tscience\n",
        "3422\tearth\n",
        "3353\tp2\n",
        "3263\tcir\n",
        "3246\timmigration\n",
        "3242\tvets\n",
        "3225\tlgtb\n",
        "3197\tbartonmoss\n",
        "3192\tlima\n",
        "3072\tcoal\n",
        "2982\turanium\n",
        "2964\teco\n",
        "2853\tnature\n",
        "2548\ttarsands\n",
        "2510\trenewables\n"
       ]
      }
     ],
     "prompt_number": 6
    },
    {
     "cell_type": "heading",
     "level": 3,
     "metadata": {},
     "source": [
      "top tags by language"
     ]
    },
    {
     "cell_type": "code",
     "collapsed": false,
     "input": [
      "for lang in ('en','es','de','fr'):\n",
      "    top_tags = col.aggregate([\n",
      "{'$match' : {'source' : {'$in':['Twitter','Twitter-DW']},'meta.source.inLanguage':lang}}, # only count tweets\n",
      "{'$project' : {'meta.original.entities.hashtags.text':1}}, # only keep hashtags\n",
      "{'$group' :{ '_id' : \"$meta.original.entities.hashtags.text\",'groupCount' : {'$sum':1} } }, # count hashtag groups\n",
      "{'$unwind':\"$_id\"}, # split hashtag groups\n",
      "{'$group' :{ '_id' : {'$toLower':\"$_id\"},'tagCount' : {'$sum':'$groupCount'} } }, # count individual hashtags\n",
      "{'$sort':{'tagCount':-1}} # top hashtags first\n",
      "])['result']\n",
      "    print '==   '+lang+'   =='\n",
      "    print '\\n'.join(['\\t'.join((str(x['tagCount']),x['_id'])) for x in top_tags[:50]]) # pretty print top tags\n",
      "    print"
     ],
     "language": "python",
     "metadata": {},
     "outputs": [
      {
       "output_type": "stream",
       "stream": "stdout",
       "text": [
        "==   en   ==\n",
        "242818\tfracking\n",
        "123546\tclimate\n",
        "56756\tenvironment\n",
        "38254\tsustainability\n",
        "34429\tnuclear\n",
        "29836\tcop20\n",
        "13948\tenergy\n",
        "13444\tshale\n",
        "11804\tclimatechange\n",
        "10769\toilandgas\n",
        "10761\toil\n",
        "9665\tgreen\n",
        "9445\tauspol\n",
        "9297\tthorium\n",
        "9133\tnatgas\n",
        "8572\teconomy\n",
        "8151\tcdnpoli\n",
        "7973\thealth\n",
        "6136\tiran\n",
        "5891\twater\n",
        "5221\tgas\n",
        "5013\tgop\n",
        "4473\tfrackoff\n",
        "4449\tusa\n",
        "4366\tsolar\n",
        "4331\tpassabill\n",
        "4309\tanfa\n",
        "4304\tuslatino\n",
        "4239\tworkbalance\n",
        "3908\tshalegas\n",
        "3889\tcsr\n",
        "3792\tcsg\n",
        "3604\tglobalwarming\n",
        "3385\ttexas\n",
        "3309\tp2\n",
        "3290\tearth\n",
        "3263\tcir\n",
        "3255\tscience\n",
        "3244\timmigration\n",
        "3240\tvets\n",
        "3225\tlgtb\n",
        "3140\tbartonmoss\n",
        "3119\tlima\n",
        "3017\tcoal\n",
        "2956\turanium\n",
        "2558\tnature\n",
        "2473\ttarsands\n",
        "2436\trenewables\n",
        "2367\tirantalks\n",
        "2331\tplanet\n",
        "\n",
        "==   es   =="
       ]
      },
      {
       "output_type": "stream",
       "stream": "stdout",
       "text": [
        "\n",
        "19638\tfracking\n",
        "1705\tnuclear\n",
        "810\tmedioambiente\n",
        "708\tfrackingno\n",
        "446\tucrania\n",
        "389\tclimate\n",
        "346\tenvironment\n",
        "323\tshale\n",
        "319\tcantabria\n",
        "302\tm\u00e9xico\n",
        "299\tshapoporose\n",
        "259\toilandgas\n",
        "258\teeuu\n",
        "251\treformaenerg\u00e9tica\n",
        "241\t\u00daltimahoratve\n",
        "239\tmexico\n",
        "238\tburgos\n",
        "237\tshalegas\n",
        "220\tsustainability\n",
        "215\trenovables\n",
        "208\tespa\u00f1a\n",
        "201\ttamaulipas\n",
        "201\tmarcaespa\u00f1a\n",
        "197\tcoahuila\n",
        "167\treformaenergetica\n",
        "154\tpp\n",
        "150\tagua\n",
        "149\tscience\n",
        "148\tnofracking\n",
        "145\tgas\n",
        "143\targentina\n",
        "142\tnuevayork\n",
        "138\tpemex\n",
        "136\tbbc\n",
        "135\tcop20\n",
        "133\tnl\n",
        "130\tthorium\n",
        "129\tunasur\n",
        "129\tintegraci\u00f3n\n",
        "129\teeuusanciones\n",
        "128\tauspol\n",
        "125\tmerindades\n",
        "119\tvacamuerta\n",
        "115\tfalso\n",
        "113\tttip\n",
        "110\tprospecciones\n",
        "102\tfrackingez\n",
        "100\tenerg\u00eda\n",
        "95\tpetr\u00f3leo\n",
        "92\tnuevolaredo\n",
        "\n",
        "==   de   =="
       ]
      },
      {
       "output_type": "stream",
       "stream": "stdout",
       "text": [
        "\n",
        "13050\tfracking\n",
        "2931\tttip\n",
        "2458\tgentechnik\n",
        "2410\tacta\n",
        "531\tschiefergas\n",
        "478\twm2014\n",
        "437\terdgas\n",
        "332\tnofracking\n",
        "287\teu\n",
        "285\t100000haende\n",
        "279\tusa\n",
        "258\tclimate\n",
        "247\tenergiewende\n",
        "231\tewendemo\n",
        "213\tumwelt\n",
        "201\tgasbohren\n",
        "191\toilandgas\n",
        "179\tpiraten\n",
        "175\tspd\n",
        "165\tgas\n",
        "153\tcdu\n",
        "152\tgroko\n",
        "146\tukraine\n",
        "144\tenergie\n",
        "135\tshalegas\n",
        "120\tnrw\n",
        "115\tshale\n",
        "110\tgabriel\n",
        "94\tdeutschland\n",
        "93\trussland\n",
        "90\tnuclear\n",
        "88\tbigoil\n",
        "87\tengagingindeception\n",
        "85\tnato\n",
        "83\teid\n",
        "77\tauspol\n",
        "76\tenergy\n",
        "73\tceta\n",
        "72\tnatgas\n",
        "70\toil\n",
        "69\tenvironment\n",
        "68\tgr\u00fcne\n",
        "68\texxon\n",
        "63\tsockpuppet\n",
        "63\tpropaganda\n",
        "62\tnokxl\n",
        "60\tco2\n",
        "58\tkohle\n",
        "57\tumweltschutz\n",
        "56\tsustainability\n",
        "\n",
        "==   fr   =="
       ]
      },
      {
       "output_type": "stream",
       "stream": "stdout",
       "text": [
        "\n",
        "1058\tfracking\n",
        "443\tclimate\n",
        "424\tenvironment\n",
        "379\tgazdeschiste\n",
        "134\tnuclear\n",
        "124\tschiste\n",
        "115\tcop20\n",
        "109\toilandgas\n",
        "103\tsustainability\n",
        "63\tjobs\n",
        "53\tp\u00e9trole\n",
        "51\tclimat\n",
        "47\tcofrentes17\n",
        "47\tsolaridad\n",
        "46\tenergy\n",
        "42\tshalegas\n",
        "40\tgaz\n",
        "40\tchange\n",
        "38\tshale\n",
        "35\taustralia\n",
        "34\tmetals\n",
        "34\toccupychevron\n",
        "34\tsweden\n",
        "33\tenvironnement\n",
        "31\tpollution\n",
        "29\tcanada\n",
        "28\tpolqc\n",
        "28\tqu\u00e9bec\n",
        "28\tchevron\n",
        "27\ttoxic\n",
        "27\tpolcan\n",
        "27\tgreen\n",
        "26\tclimatechange\n",
        "26\tsvpol\n",
        "26\tericgarner\n",
        "26\tinvestors\n",
        "26\ticantbreathe\n",
        "25\tagriculture\n",
        "25\tgettheffout\n",
        "24\ttotal\n",
        "24\tholyfieldholywar\n",
        "22\ttafta\n",
        "22\toil\n",
        "22\tjob\n",
        "22\tcdnpoli\n",
        "22\tusa\n",
        "21\tcamac\n",
        "21\tbartonmoss\n",
        "21\tfrance\n",
        "21\teurope\n",
        "\n"
       ]
      }
     ],
     "prompt_number": 7
    },
    {
     "cell_type": "markdown",
     "metadata": {},
     "source": [
      "## languages"
     ]
    },
    {
     "cell_type": "code",
     "collapsed": false,
     "input": [
      "langs = col.aggregate([\n",
      "{'$match' : {'source' : {'$in':['Twitter','Twitter-DW']}}}, # only count tweets\n",
      "{'$project' : {'meta.source.inLanguage':1}}, # only keep language field\n",
      "{'$group' :{ '_id' : \"$meta.source.inLanguage\",'langCount' : {'$sum':1} } }, # count tweets per language\n",
      "{'$sort':{'langCount':-1}} # top languages first\n",
      "])['result']"
     ],
     "language": "python",
     "metadata": {},
     "outputs": [],
     "prompt_number": 8
    },
    {
     "cell_type": "code",
     "collapsed": false,
     "input": [
      "print '\\n'.join(['\\t'.join((str(x['langCount']),str(x['_id']))) for x in langs]) # pretty print languages"
     ],
     "language": "python",
     "metadata": {},
     "outputs": [
      {
       "output_type": "stream",
       "stream": "stdout",
       "text": [
        "494107\ten\n",
        "22895\tes\n",
        "13412\tde\n",
        "3448\tund\n",
        "2256\tfr\n",
        "1389\tit\n",
        "1015\tnl\n",
        "948\tja\n",
        "711\tpt\n",
        "513\tin\n",
        "343\tro\n",
        "332\tsk\n",
        "271\ttl\n",
        "208\tar\n",
        "195\tpl\n",
        "189\tda\n",
        "186\tet\n",
        "163\tsv\n",
        "126\tsl\n",
        "107\tcy\n",
        "104\tno\n",
        "97\tht\n",
        "91\ttr\n",
        "77\tbs\n",
        "70\tvi\n",
        "68\tfi\n",
        "51\tel\n",
        "47\tru\n",
        "44\thu\n",
        "40\tlt\n",
        "38\thr\n",
        "35\tfa\n",
        "30\thi\n",
        "26\tis\n",
        "26\tid\n",
        "16\tbg\n",
        "15\tzh\n",
        "14\tko\n",
        "12\tlv\n",
        "9\tta\n",
        "9\tuk\n",
        "9\tth\n",
        "8\tNone\n",
        "2\tiw\n",
        "2\tbn\n",
        "1\tne\n",
        "1\tur\n",
        "1\tsr\n"
       ]
      }
     ],
     "prompt_number": 9
    }
   ],
   "metadata": {}
  }
 ]
}